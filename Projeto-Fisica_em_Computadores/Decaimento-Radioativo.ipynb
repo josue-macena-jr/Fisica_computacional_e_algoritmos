{
 "cells": [
  {
   "cell_type": "markdown",
   "metadata": {},
   "source": [
    "# Decaimento Radioativo\n",
    "\n",
    "O problema do decaimento radioativo é dado por uma amostra radioativa de material possuindo N núcleons que irão decair aleatoriamente em algum instante t. O problema é determinar quantos núcleons estarão em estado de emissão (ainda não decaídos) sabendo num dado instante inicial a população.\n"
   ]
  },
  {
   "cell_type": "markdown",
   "metadata": {},
   "source": [
    "O nosso modelo será dado conforme [Física em computadores] - Coleção CBPF - Paulo e Suzana Oliveira. Escrito da forma $N(t+\\Delta t) = N(t)(1 - \\alpha\\Delta t)$.\n",
    "\n",
    "Para o nosso caso específico usaremos os valores do Rb$^{82}$, com decaimento $\\alpha = 9.24\\cdot10^{-3} s^{-1}$. Podemos entretanto realizar uma tabela com os valores dos decaimentos de outras substâncias. Fazer a leitura desse arquivo e atribuir o tempo de decaimento."
   ]
  },
  {
   "cell_type": "code",
   "execution_count": 42,
   "metadata": {},
   "outputs": [],
   "source": [
    "from math import log\n",
    "import matplotlib.pyplot as plt\n",
    "\n",
    "\n",
    "class Radioactivity():\n",
    "    \n",
    "    def __init__(self, nome = ''):\n",
    "        while True:\n",
    "            try:\n",
    "                self.nome = nome\n",
    "                self.meiaVida = float(Radioactivity.__data[nome])\n",
    "                self.alpha = log(2)/self.meiaVida\n",
    "                self.vidaMedia = 1/self.alpha\n",
    "                break\n",
    "            except KeyError:\n",
    "                print(\"Nome fora da lista\")\n",
    "                \n",
    "                # aqui deve entrar uma função para adicionar um novo elemento na pré-carregada ou não\n",
    "                \n",
    "                break\n",
    "         \n",
    "          \n",
    "    \n",
    "    # Esse método carrega os dados tabelados de algumas substâncias e importa para um dicionário. É neste\n",
    "    # dicionário que fica a informação interna à classe. A partir disso é possível trazer o nome e meia-vida\n",
    "    # da substância e então usar estes dados para setar os atributos \n",
    "    \n",
    "    def __dataInfo():\n",
    "        arqv = open('decaimento_tabela.csv','r')\n",
    "        data = []\n",
    "        colunas = arqv.read().split('\\n')\n",
    "        colunas.pop()\n",
    "        for coluna in colunas:\n",
    "            split_row = coluna.split(\",\")\n",
    "            data.append(split_row)\n",
    "    \n",
    "        data = dict(data) \n",
    "        data.pop('nome') # é removida o header das colunas a fim de obter apenas os elementos e as meias-vidas\n",
    "        arqv.close()\n",
    "        return data\n",
    "    \n",
    "    __data = __dataInfo()\n",
    "    \n",
    "    # Criar um método que permita evoluir no tempo e mudar o número de partículas ainda não decaídas\n",
    "    # em função do tempo\n",
    "    \n",
    "    def evolution(self, N = 1000, time = 4):\n",
    "        \n",
    "        # Enxergando a inicialização da evolução do sistema\n",
    "        \n",
    "        while True: \n",
    "            try:\n",
    "                if int(N) == N > 0 and int(time) == time > 0:\n",
    "                    self.popInit = N\n",
    "                    _Delta_t = 1 # cada população é evoluída de 1 em 1 segundo\n",
    "                    self.pop = [self.popInit]\n",
    "                    for n in range(1, 10**time):\n",
    "                        self.pop.append(self.pop[n-1]*(1-self.alpha*_Delta_t))\n",
    "                    '''with open(\"evolution_{}.csv\".format(self.nome),\"w\") as arquivo:\n",
    "                        writer = csv.writer(arquivo)\n",
    "                        writer.writerow(('time','population'))\n",
    "                        for '''\n",
    "                    return self.pop[0::10**(time-1)]\n",
    "                else:\n",
    "                    print(\"Valor da amostra inválida!\\n\")\n",
    "                    try:\n",
    "                        N = int(input(\"Insira o tamanho da amostra: \"))\n",
    "                        continue\n",
    "                    except ValueError as v:\n",
    "                        print(\"Erro: \",v)\n",
    "                        continue\n",
    "                break\n",
    "        \n",
    "            except TypeError:\n",
    "                print(\"Erro: valores da amostragem deve ser um inteiro!\")\n",
    "                break\n",
    "        \n",
    "    # Criar um método que plote gráficos do tipo N x t e log N x t.\n",
    "    \n",
    "    def grafico(self, delta_t = 10, tInit = 0, tFinal = 10000, xscale = \"linear\", yscale = \"linear\"):\n",
    "        try:\n",
    "            if 0 < tFinal <= tInit > 0 or 0 < tFinal <= delta_t > 0 or tFinal > len(self.pop):\n",
    "                print( \"Erro! Valores incompatíveis com a plotagem da amostra.\")\n",
    "            else:\n",
    "                plt.xscale(xscale)\n",
    "                plt.yscale (yscale)\n",
    "                plt.title('Decaimento da Amostra')\n",
    "                plt.plot([item for item in range(tInit, tFinal, delta_t)], \n",
    "                         [self.pop[index] for index in range(tInit, tFinal, delta_t)])\n",
    "                plt.xlabel('t')\n",
    "                plt.ylabel('N(t)')\n",
    "                if xscale == \"log\":\n",
    "                    plt.xlabel(\"log t\")\n",
    "                if yscale == \"log\":\n",
    "                    plt.ylabel(\"Ln N(t)\")\n",
    "                plt.show()\n",
    "                \n",
    "        except (TypeError, ValueError) as t:\n",
    "            print( \"Erro: {}\".format(t))\n",
    "        \n",
    "        except AttributeError as a:\n",
    "            print(\"Erro: {}\\nInicialize a função evolution primeiro!\".format(a))\n",
    "        \n",
    "        #except ValueError as v:\n",
    "         #   return \n",
    "    \n",
    "    \n",
    "    # Criar um método que permita alterar o arquivo original e add as colunas de tempo de vida média, constante\n",
    "    # de decaimento\n",
    "    \n",
    "    # Criar um método que permita cadastrar mais itens na lista\n",
    "    \n",
    "    #procurar erros"
   ]
  },
  {
   "cell_type": "code",
   "execution_count": 43,
   "metadata": {},
   "outputs": [],
   "source": [
    "element = Radioactivity(\"rubideo-82\")"
   ]
  },
  {
   "cell_type": "code",
   "execution_count": 44,
   "metadata": {},
   "outputs": [
    {
     "data": {
      "text/plain": [
       "[1000,\n",
       " 0.09281202840879128,\n",
       " 8.61407261735427e-06,\n",
       " 7.994895524772741e-10,\n",
       " 7.420224705705246e-14,\n",
       " 6.886861061855296e-18,\n",
       " 6.391835445203119e-22,\n",
       " 5.932392129245102e-26,\n",
       " 5.50597346831585e-30,\n",
       " 5.11020565959381e-34]"
      ]
     },
     "execution_count": 44,
     "metadata": {},
     "output_type": "execute_result"
    }
   ],
   "source": [
    "element.evolution()"
   ]
  },
  {
   "cell_type": "code",
   "execution_count": 45,
   "metadata": {},
   "outputs": [
    {
     "data": {
      "image/png": "[encoded data removed]",
      "text/plain": [
       "<Figure size 432x288 with 1 Axes>"
      ]
     },
     "metadata": {
      "needs_background": "light"
     },
     "output_type": "display_data"
    }
   ],
   "source": [
    "element.grafico(tInit = 0, tFinal = 1000, delta_t = 50, yscale = \"log\")"
   ]
  },
  {
   "cell_type": "code",
   "execution_count": null,
   "metadata": {},
   "outputs": [],
   "source": []
  }
 ],
 "metadata": {
  "kernelspec": {
   "display_name": "Python 3",
   "language": "python",
   "name": "python3"
  },
  "language_info": {
   "codemirror_mode": {
    "name": "ipython",
    "version": 3
   },
   "file_extension": ".py",
   "mimetype": "text/x-python",
   "name": "python",
   "nbconvert_exporter": "python",
   "pygments_lexer": "ipython3",
   "version": "3.8.5"
  },
  "toc-autonumbering": false,
  "toc-showcode": true,
  "toc-showmarkdowntxt": true,
  "toc-showtags": false
 },
 "nbformat": 4,
 "nbformat_minor": 4
}
