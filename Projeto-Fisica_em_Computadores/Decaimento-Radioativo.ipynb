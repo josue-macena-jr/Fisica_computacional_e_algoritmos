{
 "cells": [
  {
   "cell_type": "markdown",
   "metadata": {},
   "source": [
    "# Decaimento Radioativo\n",
    "\n",
    "O problema do decaimento radioativo é dado por uma amostra radioativa de material possuindo N núcleons que irão decair aleatoriamente em algum instante t. O problema é determinar quantos núcleons estarão em estado de emissão (ainda não decaídos) sabendo num dado instante inicial a população.\n"
   ]
  },
  {
   "cell_type": "markdown",
   "metadata": {},
   "source": [
    "O nosso modelo será dado conforme [Física em computadores] - Coleção CBPF - Paulo e Suzana Oliveira. Escrito da forma N(t+Δt) = N(t)(1 - αΔt).\n",
    "\n",
    "Para o nosso caso específico usaremos os valores do Rb⁸², com decaimento α = 9.24e-3 s^(-1). Podemos entretanto realizar uma tabela com os valores dos decaimentos de outras substâncias. Fazer a leitura desse arquivo e atribuir o tempo de decaimento."
   ]
  },
  {
   "cell_type": "code",
   "execution_count": 83,
   "metadata": {},
   "outputs": [],
   "source": [
    "import numpy as np\n",
    "import matplotlib.pyplot as plt\n",
    "\n",
    "class radioactivity():\n",
    "    \n",
    "    def __init__(self, nome = '', N = 10**3):\n",
    "        while True:\n",
    "            try:\n",
    "                if N > 0:\n",
    "                    self.nome = nome\n",
    "                    self.N = N\n",
    "                    self.meiaVida = float(element.__data[nome])\n",
    "                    self.alpha = np.log(2)/self.meiaVida\n",
    "                    self.vidaMedia = 1/self.alpha\n",
    "                else:\n",
    "                    print(\"Valor da amostra inválida!\\n\")\n",
    "                    try:\n",
    "                        N = int(input(\"Insira o tamanho da amostra: \"))\n",
    "                        continue\n",
    "                    except ValueError as v:\n",
    "                        print(\"Erro: \",v)\n",
    "                        continue\n",
    "                break\n",
    "            except KeyError:\n",
    "                print(\"Nome fora da lista\")\n",
    "                # aqui deve entrar uma função para adcionar um novo elemento na pré-carregada ou não\n",
    "                break\n",
    "    \n",
    "    # Esse método carrega os dados tabelados de algumas substâncias e importa para um dicionário. É neste\n",
    "    # dicionário que fica a informação interna à classe. A partir disso é possível trazer o nome e meia-vida\n",
    "    # da substância e então usar estes dados para setar os atributos \n",
    "    \n",
    "    def __dataInfo():\n",
    "        arqv = open('decaimento_tabela.csv','r')\n",
    "        data = []\n",
    "        colunas = arqv.read().split('\\n')\n",
    "        colunas.pop()\n",
    "        for coluna in colunas:\n",
    "            split_row = coluna.split(\",\")\n",
    "            data.append(split_row)\n",
    "    \n",
    "        data = dict(data) \n",
    "        data.pop('nome') # é removida o header das colunas a fim de obter apenas os elementos e as meias-vidas\n",
    "        arqv.close()\n",
    "        return data\n",
    "    \n",
    "    __data = __dataInfo()\n",
    "    \n",
    "    # Criar um método que permita evoluir no tempo e mudar o número de partículas ainda não decaídas\n",
    "    # em função do tempo\n",
    "    \n",
    "    # Criar um método que plote gráficos do tipo N x t e log N x t.\n",
    "    \n",
    "    # Criar um método que permita alterar o arquivo original e add as colunas de tempo de vida média, constante\n",
    "    # de decaimento\n",
    "    \n",
    "    # Criar um método que permita cadastrar mais itens na lista\n",
    "    \n",
    "    #procurar erros"
   ]
  },
  {
   "cell_type": "code",
   "execution_count": 67,
   "metadata": {},
   "outputs": [
    {
     "data": {
      "text/plain": [
       "'def decaimento():\\n    try:\\n        data = data_form()\\n        nome = input(\"nome tabelado: \")\\n        if nome in data:\\n            popInit = int(input(\"População Inicial: \"))\\n            if popInit <= 0:\\n                print(\"Alerta!!! População Inicial menor ou igual a 0!\\n Tente novamente:\\n\")\\n                decaimento()\\n            else:\\n                t = int(input(\"Tempo de simulação (em potência de 10):\"))\\n                plotGraphic(nome, popInit, t, data)\\n        else:\\n            print(\"\\nElemento não encontrado!\\n\" +\\n                   \"Se deseja inserir esse elemento na lista, digite 1\\n\" +\\n                   \"Se deseja consultar um elemento tabelado, digite 2\\n\" +\\n                   \"Para encerrar, digite 0\")\\n            \\n            x = int(input())\\n            try:\\n                if x == 0:\\n                    pass\\n                elif x == 2:\\n                    decaimento()\\n                elif x == 1:\\n                    arqv = open(\\'decaimento_tabela.csv\\',\\'a\\')\\n                    arqv.write(nome + \\',\\' + input(\"determine o tempo de meia vida em segundos: \") + \\'\\n\\' )\\n                    arqv.close()\\n                    decaimento()\\n            except ErrorValue:\\n                print(\"Valor indevido!\")\\n                \\n    \\n    except IOError:\\n        print(\"Num deu!\")\\n        \\ndef plotGraphic(nome, popInit, tempo,data):\\n    N, constDecaimento = propertys(nome, float(data[nome]), popInit, tempo)\\n    t = [t for t in range(len(N))]\\n    _, axes = plt.subplots(1, 2, figsize=(10,4))\\n    axes[0].plot([item for item in t[0:len(t):10]], N[0:len(N):10],\\n                 label = \"curva de decaimento\")                      \\n    axes[0].set_title(\"log N(t)\")\\n    axes[0].set_yscale(\"log\")\\n    axes[1].plot([item for item in t[0:len(t):10]], N[0:len(N):10],\\n                 label = \"curva de decaimento\")                      \\n    axes[1].set_title(\"N(t)\")\\n    plt.show()\\n        \\ndef propertys(nome , meiaVida , popInit, tempo):\\n    try:\\n        Delta_t = 1\\n        alpha = np.log(2)/meiaVida\\n        N = [popInit]\\n        tempoAmostragem = 10**tempo\\n        for n in range(1,tempoAmostragem):\\n            N.append(N[n-1]*(1-alpha*Delta_t))\\n        \\n        return N, alpha\\n    \\n    except ErroType:\\n        print(\"Tempo de amostragem deve ser uma potência de 10!\")'"
      ]
     },
     "execution_count": 67,
     "metadata": {},
     "output_type": "execute_result"
    }
   ],
   "source": [
    "\"\"\"def decaimento():\n",
    "    try:\n",
    "        data = data_form()\n",
    "        nome = input(\"nome tabelado: \")\n",
    "        if nome in data:\n",
    "            popInit = int(input(\"População Inicial: \"))\n",
    "            if popInit <= 0:\n",
    "                print(\"Alerta!!! População Inicial menor ou igual a 0!\\n Tente novamente:\\n\")\n",
    "                decaimento()\n",
    "            else:\n",
    "                t = int(input(\"Tempo de simulação (em potência de 10):\"))\n",
    "                plotGraphic(nome, popInit, t, data)\n",
    "        else:\n",
    "            print(\"\\nElemento não encontrado!\\n\" +\n",
    "                   \"Se deseja inserir esse elemento na lista, digite 1\\n\" +\n",
    "                   \"Se deseja consultar um elemento tabelado, digite 2\\n\" +\n",
    "                   \"Para encerrar, digite 0\")\n",
    "            \n",
    "            x = int(input())\n",
    "            try:\n",
    "                if x == 0:\n",
    "                    pass\n",
    "                elif x == 2:\n",
    "                    decaimento()\n",
    "                elif x == 1:\n",
    "                    arqv = open('decaimento_tabela.csv','a')\n",
    "                    arqv.write(nome + ',' + input(\"determine o tempo de meia vida em segundos: \") + '\\n' )\n",
    "                    arqv.close()\n",
    "                    decaimento()\n",
    "            except ErrorValue:\n",
    "                print(\"Valor indevido!\")\n",
    "                \n",
    "    \n",
    "    except IOError:\n",
    "        print(\"Num deu!\")\n",
    "        \n",
    "def plotGraphic(nome, popInit, tempo,data):\n",
    "    N, constDecaimento = propertys(nome, float(data[nome]), popInit, tempo)\n",
    "    t = [t for t in range(len(N))]\n",
    "    _, axes = plt.subplots(1, 2, figsize=(10,4))\n",
    "    axes[0].plot([item for item in t[0:len(t):10]], N[0:len(N):10],\n",
    "                 label = \"curva de decaimento\")                      \n",
    "    axes[0].set_title(\"log N(t)\")\n",
    "    axes[0].set_yscale(\"log\")\n",
    "    axes[1].plot([item for item in t[0:len(t):10]], N[0:len(N):10],\n",
    "                 label = \"curva de decaimento\")                      \n",
    "    axes[1].set_title(\"N(t)\")\n",
    "    plt.show()\n",
    "        \n",
    "def propertys(nome , meiaVida , popInit, tempo):\n",
    "    try:\n",
    "        Delta_t = 1\n",
    "        alpha = np.log(2)/meiaVida\n",
    "        N = [popInit]\n",
    "        tempoAmostragem = 10**tempo\n",
    "        for n in range(1,tempoAmostragem):\n",
    "            N.append(N[n-1]*(1-alpha*Delta_t))\n",
    "        \n",
    "        return N, alpha\n",
    "    \n",
    "    except ErroType:\n",
    "        print(\"Tempo de amostragem deve ser uma potência de 10!\")\"\"\"\n",
    "    "
   ]
  },
  {
   "cell_type": "code",
   "execution_count": 84,
   "metadata": {},
   "outputs": [
    {
     "name": "stdout",
     "output_type": "stream",
     "text": [
      "Valor da amostra inválida!\n",
      "\n",
      "Insira o tamanho da amostra: -20\n",
      "Valor da amostra inválida!\n",
      "\n",
      "Insira o tamanho da amostra: -5\n",
      "Valor da amostra inválida!\n",
      "\n",
      "Insira o tamanho da amostra: ç\n",
      "Erro:  invalid literal for int() with base 10: 'ç'\n",
      "Valor da amostra inválida!\n",
      "\n",
      "Insira o tamanho da amostra: 1000\n"
     ]
    },
    {
     "ename": "AttributeError",
     "evalue": "type object 'element' has no attribute '_radioactivity__data'",
     "output_type": "error",
     "traceback": [
      "\u001b[0;31m---------------------------------------------------------------------------\u001b[0m",
      "\u001b[0;31mAttributeError\u001b[0m                            Traceback (most recent call last)",
      "\u001b[0;32m<ipython-input-84-4489e2690605>\u001b[0m in \u001b[0;36m<module>\u001b[0;34m\u001b[0m\n\u001b[0;32m----> 1\u001b[0;31m \u001b[0mrb82\u001b[0m \u001b[0;34m=\u001b[0m \u001b[0mradioactivity\u001b[0m\u001b[0;34m(\u001b[0m\u001b[0;34m\"rubideo-82\"\u001b[0m\u001b[0;34m,\u001b[0m\u001b[0;34m-\u001b[0m\u001b[0;36m1000\u001b[0m\u001b[0;34m)\u001b[0m\u001b[0;34m\u001b[0m\u001b[0;34m\u001b[0m\u001b[0m\n\u001b[0m",
      "\u001b[0;32m<ipython-input-83-de20184b241b>\u001b[0m in \u001b[0;36m__init__\u001b[0;34m(self, nome, N)\u001b[0m\n\u001b[1;32m     10\u001b[0m                     \u001b[0mself\u001b[0m\u001b[0;34m.\u001b[0m\u001b[0mnome\u001b[0m \u001b[0;34m=\u001b[0m \u001b[0mnome\u001b[0m\u001b[0;34m\u001b[0m\u001b[0;34m\u001b[0m\u001b[0m\n\u001b[1;32m     11\u001b[0m                     \u001b[0mself\u001b[0m\u001b[0;34m.\u001b[0m\u001b[0mN\u001b[0m \u001b[0;34m=\u001b[0m \u001b[0mN\u001b[0m\u001b[0;34m\u001b[0m\u001b[0;34m\u001b[0m\u001b[0m\n\u001b[0;32m---> 12\u001b[0;31m                     \u001b[0mself\u001b[0m\u001b[0;34m.\u001b[0m\u001b[0mmeiaVida\u001b[0m \u001b[0;34m=\u001b[0m \u001b[0mfloat\u001b[0m\u001b[0;34m(\u001b[0m\u001b[0melement\u001b[0m\u001b[0;34m.\u001b[0m\u001b[0m__data\u001b[0m\u001b[0;34m[\u001b[0m\u001b[0mnome\u001b[0m\u001b[0;34m]\u001b[0m\u001b[0;34m)\u001b[0m\u001b[0;34m\u001b[0m\u001b[0;34m\u001b[0m\u001b[0m\n\u001b[0m\u001b[1;32m     13\u001b[0m                     \u001b[0mself\u001b[0m\u001b[0;34m.\u001b[0m\u001b[0malpha\u001b[0m \u001b[0;34m=\u001b[0m \u001b[0mnp\u001b[0m\u001b[0;34m.\u001b[0m\u001b[0mlog\u001b[0m\u001b[0;34m(\u001b[0m\u001b[0;36m2\u001b[0m\u001b[0;34m)\u001b[0m\u001b[0;34m/\u001b[0m\u001b[0mself\u001b[0m\u001b[0;34m.\u001b[0m\u001b[0mmeiaVida\u001b[0m\u001b[0;34m\u001b[0m\u001b[0;34m\u001b[0m\u001b[0m\n\u001b[1;32m     14\u001b[0m                     \u001b[0mself\u001b[0m\u001b[0;34m.\u001b[0m\u001b[0mvidaMedia\u001b[0m \u001b[0;34m=\u001b[0m \u001b[0;36m1\u001b[0m\u001b[0;34m/\u001b[0m\u001b[0mself\u001b[0m\u001b[0;34m.\u001b[0m\u001b[0malpha\u001b[0m\u001b[0;34m\u001b[0m\u001b[0;34m\u001b[0m\u001b[0m\n",
      "\u001b[0;31mAttributeError\u001b[0m: type object 'element' has no attribute '_radioactivity__data'"
     ]
    }
   ],
   "source": [
    "rb82 = radioactivity(\"rubideo-82\",-1000)"
   ]
  },
  {
   "cell_type": "code",
   "execution_count": null,
   "metadata": {},
   "outputs": [],
   "source": []
  }
 ],
 "metadata": {
  "kernelspec": {
   "display_name": "Python 3",
   "language": "python",
   "name": "python3"
  },
  "language_info": {
   "codemirror_mode": {
    "name": "ipython",
    "version": 3
   },
   "file_extension": ".py",
   "mimetype": "text/x-python",
   "name": "python",
   "nbconvert_exporter": "python",
   "pygments_lexer": "ipython3",
   "version": "3.7.3"
  }
 },
 "nbformat": 4,
 "nbformat_minor": 2
}
