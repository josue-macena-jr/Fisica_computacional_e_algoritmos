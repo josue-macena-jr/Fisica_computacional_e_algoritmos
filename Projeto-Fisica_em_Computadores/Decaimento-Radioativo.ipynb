{
 "cells": [
  {
   "cell_type": "markdown",
   "metadata": {},
   "source": [
    "# Decaimento Radioativo\n",
    "\n",
    "O problema do decaimento radioativo é dado por uma amostra radioativa de material possuindo N núcleons que irão decair aleatoriamente em algum instante t. O problema é determinar quantos núcleons estarão em estado de emissão (ainda não decaídos) sabendo num dado instante inicial a população.\n"
   ]
  },
  {
   "cell_type": "markdown",
   "metadata": {},
   "source": [
    "O nosso modelo será dado conforme [Física em computadores] - Coleção CBPF - Paulo e Suzana Oliveira. Escrito da forma $N(t+\\Delta t) = N(t)(1 - \\alpha\\Delta t)$.\n",
    "\n",
    "Para o nosso caso específico usaremos os valores do Rb$^{82}$, com decaimento $\\alpha = 9.24\\cdot10^{-3} s^{-1}$. Podemos entretanto realizar uma tabela com os valores dos decaimentos de outras substâncias. Fazer a leitura desse arquivo e atribuir o tempo de decaimento."
   ]
  },
  {
   "cell_type": "code",
   "execution_count": 106,
   "metadata": {},
   "outputs": [],
   "source": [
    "from math import log, floor, ceil\n",
    "import matplotlib.pyplot as plt\n",
    "import csv\n",
    "\n",
    "class radioactivity():\n",
    "    \n",
    "    def __init__(self, nome = ''):\n",
    "        while True:\n",
    "            try:\n",
    "                self.nome = nome\n",
    "                self.meiaVida = float(radioactivity.__data[nome])\n",
    "                self.alpha = log(2)/self.meiaVida\n",
    "                self.vidaMedia = 1/self.alpha\n",
    "                break\n",
    "            except KeyError:\n",
    "                print(\"Nome fora da lista\")\n",
    "                \n",
    "                # aqui deve entrar uma função para adicionar um novo elemento na pré-carregada ou não\n",
    "                \n",
    "                break\n",
    "         \n",
    "          \n",
    "    \n",
    "    # Esse método carrega os dados tabelados de algumas substâncias e importa para um dicionário. É neste\n",
    "    # dicionário que fica a informação interna à classe. A partir disso é possível trazer o nome e meia-vida\n",
    "    # da substância e então usar estes dados para setar os atributos \n",
    "    \n",
    "    def __dataInfo():\n",
    "        arqv = open('decaimento_tabela.csv','r')\n",
    "        data = []\n",
    "        colunas = arqv.read().split('\\n')\n",
    "        colunas.pop()\n",
    "        for coluna in colunas:\n",
    "            split_row = coluna.split(\",\")\n",
    "            data.append(split_row)\n",
    "    \n",
    "        data = dict(data) \n",
    "        data.pop('nome') # é removida o header das colunas a fim de obter apenas os elementos e as meias-vidas\n",
    "        arqv.close()\n",
    "        return data\n",
    "    \n",
    "    __data = __dataInfo()\n",
    "    \n",
    "    # Criar um método que permita evoluir no tempo e mudar o número de partículas ainda não decaídas\n",
    "    # em função do tempo\n",
    "    \n",
    "    def evolution(self, N = 1000, time = 4):\n",
    "        \n",
    "        # Enxergando a inicialização da evolução do sistema\n",
    "        \n",
    "        while True: \n",
    "            try:\n",
    "                if int(N) == N > 0 and int(time) == time > 0:\n",
    "                    self.popInit = N\n",
    "                    _Delta_t = 1 # cada população é evoluída de 1 em 1 segundo\n",
    "                    self.pop = [self.popInit]\n",
    "                    for n in range(1, 10**time):\n",
    "                        self.pop.append(self.pop[n-1]*(1-self.alpha*_Delta_t))\n",
    "                    '''with open(\"evolution_{}.csv\".format(self.nome),\"w\") as arquivo:\n",
    "                        writer = csv.writer(arquivo)\n",
    "                        writer.writerow(('time','population'))\n",
    "                        for '''\n",
    "                    return self.pop[0::10**(time-1)]\n",
    "                else:\n",
    "                    print(\"Valor da amostra inválida!\\n\")\n",
    "                    try:\n",
    "                        N = int(input(\"Insira o tamanho da amostra: \"))\n",
    "                        continue\n",
    "                    except ValueError as v:\n",
    "                        print(\"Erro: \",v)\n",
    "                        continue\n",
    "                break\n",
    "        \n",
    "            except TypeError:\n",
    "                print(\"Erro: valores da amostragem deve ser um inteiro!\")\n",
    "                break\n",
    "        \n",
    "    # Criar um método que plote gráficos do tipo N x t e log N x t.\n",
    "    \n",
    "    def grafico(self, delta_t = 10, tInit = 0, tFinal = 10000, popInit = 0, popFinal = 0, delta_pop = 10):\n",
    "        try:\n",
    "            if 0 < tFinal <= tInit > 0 or 0 < tFinal <= delta_t > 0:\n",
    "                print( \"Erro! Valores incompatíveis com a plotagem da amostra.\")\n",
    "            elif popInit == 0 and popFinal == 0:\n",
    "                plt.plot([item for item in range(tInit, tFinal, delta_t)], \n",
    "                         [self.pop[index] for index in range(tInit, tFinal, delta_t)])\n",
    "                plt.xlabel('t')\n",
    "                plt.ylabel('N(t)')\n",
    "                plt.title('Decaimento da Amostra')\n",
    "                plt.show()\n",
    "            elif (0 < popInit < popFinal > 0 and (popInit - popFinal)> delta_pop) and (delta_t == 10 and tInit == 0 and tFinal == 10000):\n",
    "                    plt.plot([item for item in range(0, self.pop.index(self.pop[popFinal]), delta_pop)], \n",
    "                         [self.pop[index] for index in range(self.pop[ceil(popInit)], self.pop[floor(popFinal)], -delta_pop)])\n",
    "                    plt.xlabel('t')\n",
    "                    plt.ylabel('N(t)')\n",
    "                    plt.title('Decaimento da Amostra')\n",
    "                    plt.show()\n",
    "            else:\n",
    "                print(\"Meu deu, não sei o que tá dando errao!\")\n",
    "        except TypeError as t:\n",
    "            return \"Erro: {}\".format(t)\n",
    "        except AttributeError as a:\n",
    "            print(\"Erro: {}\\nInicialize a função evolution primeiro!\".format(a))\n",
    "    \n",
    "    def graficoLog():\n",
    "        pass\n",
    "    # Criar um método que permita alterar o arquivo original e add as colunas de tempo de vida média, constante\n",
    "    # de decaimento\n",
    "    \n",
    "    # Criar um método que permita cadastrar mais itens na lista\n",
    "    \n",
    "    #procurar erros"
   ]
  },
  {
   "cell_type": "code",
   "execution_count": 13,
   "metadata": {},
   "outputs": [
    {
     "data": {
      "text/plain": [
       "'\\n        \\ndef plotGraphic(nome, popInit, tempo,data):\\n    N, constDecaimento = propertys(nome, float(data[nome]), popInit, tempo)\\n    t = [t for t in range(len(N))]\\n    _, axes = plt.subplots(1, 2, figsize=(10,4))\\n    axes[0].plot([item for item in t[0:len(t):10]], N[0:len(N):10],\\n                 label = \"curva de decaimento\")                      \\n    axes[0].set_title(\"log N(t)\")\\n    axes[0].set_yscale(\"log\")\\n    axes[1].plot([item for item in t[0:len(t):10]], N[0:len(N):10],\\n                 label = \"curva de decaimento\")                      \\n    axes[1].set_title(\"N(t)\")\\n    plt.show()'"
      ]
     },
     "execution_count": 13,
     "metadata": {},
     "output_type": "execute_result"
    }
   ],
   "source": [
    "\"\"\"\n",
    "        \n",
    "def plotGraphic(nome, popInit, tempo,data):\n",
    "    N, constDecaimento = propertys(nome, float(data[nome]), popInit, tempo)\n",
    "    t = [t for t in range(len(N))]\n",
    "    _, axes = plt.subplots(1, 2, figsize=(10,4))\n",
    "    axes[0].plot([item for item in t[0:len(t):10]], N[0:len(N):10],\n",
    "                 label = \"curva de decaimento\")                      \n",
    "    axes[0].set_title(\"log N(t)\")\n",
    "    axes[0].set_yscale(\"log\")\n",
    "    axes[1].plot([item for item in t[0:len(t):10]], N[0:len(N):10],\n",
    "                 label = \"curva de decaimento\")                      \n",
    "    axes[1].set_title(\"N(t)\")\n",
    "    plt.show()\"\"\""
   ]
  },
  {
   "cell_type": "code",
   "execution_count": 107,
   "metadata": {},
   "outputs": [],
   "source": [
    "element = radioactivity(\"rubideo-82\")"
   ]
  },
  {
   "cell_type": "code",
   "execution_count": 108,
   "metadata": {},
   "outputs": [
    {
     "data": {
      "text/plain": [
       "[1000,\n",
       " 0.09281202840879128,\n",
       " 8.61407261735427e-06,\n",
       " 7.994895524772741e-10,\n",
       " 7.420224705705246e-14,\n",
       " 6.886861061855296e-18,\n",
       " 6.391835445203119e-22,\n",
       " 5.932392129245102e-26,\n",
       " 5.50597346831585e-30,\n",
       " 5.11020565959381e-34]"
      ]
     },
     "execution_count": 108,
     "metadata": {},
     "output_type": "execute_result"
    }
   ],
   "source": [
    "element.evolution()"
   ]
  },
  {
   "cell_type": "code",
   "execution_count": 109,
   "metadata": {},
   "outputs": [
    {
     "name": "stdout",
     "output_type": "stream",
     "text": [
      "Meu deu, não sei o que tá dando errao!\n"
     ]
    }
   ],
   "source": [
    "element.grafico(popInit = 1000, popFinal = 10, delta_t = 1)"
   ]
  },
  {
   "cell_type": "code",
   "execution_count": 100,
   "metadata": {},
   "outputs": [
    {
     "data": {
      "text/plain": [
       "5"
      ]
     },
     "execution_count": 100,
     "metadata": {},
     "output_type": "execute_result"
    }
   ],
   "source": [
    "floor(5.2)\n"
   ]
  },
  {
   "cell_type": "code",
   "execution_count": null,
   "metadata": {},
   "outputs": [],
   "source": []
  }
 ],
 "metadata": {
  "kernelspec": {
   "display_name": "Python 3",
   "language": "python",
   "name": "python3"
  },
  "language_info": {
   "codemirror_mode": {
    "name": "ipython",
    "version": 3
   },
   "file_extension": ".py",
   "mimetype": "text/x-python",
   "name": "python",
   "nbconvert_exporter": "python",
   "pygments_lexer": "ipython3",
   "version": "3.8.5"
  },
  "toc-autonumbering": false,
  "toc-showcode": true,
  "toc-showmarkdowntxt": true,
  "toc-showtags": false
 },
 "nbformat": 4,
 "nbformat_minor": 4
}
