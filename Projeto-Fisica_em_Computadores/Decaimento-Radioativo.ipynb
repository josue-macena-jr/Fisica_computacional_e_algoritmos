{
 "cells": [
  {
   "cell_type": "markdown",
   "metadata": {},
   "source": [
    "# Decaimento Radioativo\n",
    "\n",
    "O problema do decaimento radioativo é dado por uma amostra radioativa de material possuindo N núcleons que irão decair aleatoriamente em algum instante t. O problema é determinar quantos núcleons estarão em estado de emissão (ainda não decaídos) sabendo num dado instante inicial a população.\n"
   ]
  },
  {
   "cell_type": "markdown",
   "metadata": {},
   "source": [
    "O nosso modelo será dado conforme [Física em computadores] - Coleção CBPF - Paulo e Suzana Oliveira. Escrito da forma N(t+Δt) = N(t)(1 - αΔt).\n",
    "\n",
    "Para o nosso caso específico usaremos os valores do Rb⁸², com decaimento α = 9.24e-3 s^(-1). Podemos entretanto realizar uma tabela com os valores dos decaimentos de outras substâncias. Fazer a leitura desse arquivo e atribuir o tempo de decaimento."
   ]
  },
  {
   "cell_type": "code",
   "execution_count": 1,
   "metadata": {},
   "outputs": [],
   "source": [
    "import numpy as np\n",
    "import csv\n",
    "import matplotlib.pyplot as plt\n",
    "# tabela contendo algumas valores para o tempo de meia-vida de algumas substâncias\n",
    "# que irão decair (dado em segundos)\n",
    "#--------------------------------------------------------------------------------\n",
    "# A tabela é carregada na memória de maneira a no fim se transformar em um dicionário\n",
    "# onde a chave é o nome do elemento e o valor é seu tempo de meia-vida\n",
    "\n",
    "arqv = open('decaimento_tabela.csv','r')\n",
    "data = []\n",
    "colunas = arqv.read().split('\\n')\n",
    "colunas.pop()\n",
    "\n",
    "for coluna in colunas:\n",
    "    split_row = coluna.split(\",\")\n",
    "    data.append(split_row)\n",
    "\n",
    "data = dict(data) \n",
    "data.pop('nome') # é removida o header das colunas a fim de obter apenas os elementos e as meias-vidas\n",
    "arqv.close()"
   ]
  },
  {
   "cell_type": "code",
   "execution_count": 2,
   "metadata": {},
   "outputs": [],
   "source": [
    "def decaimento():\n",
    "    try:\n",
    "        nome = input(\"nome tabelado: \")\n",
    "        if nome in data:\n",
    "            popInit = int(input(\"População Inicial: \"))\n",
    "            if popInit <= 0:\n",
    "                print(\"Alerta!!! População Inicial menor ou igual a 0!\\n Tente novamente:\\n\")\n",
    "                decaimento()\n",
    "            else:\n",
    "                t = int(input(\"Tempo de simulação (em potência de 10):\"))\n",
    "                plotGraphic(nome, popInit, t)\n",
    "        else:\n",
    "            print(\"\\nElemento não encontrado!\\n\" +\n",
    "                   \"Se deseja inserir esse elemento na lista, digite 1\\n\" +\n",
    "                   \"Se deseja consultar um elemento tabelado, digite 2\\n\" +\n",
    "                   \"Para encerrar, digite 0\")\n",
    "            \n",
    "            x = int(input())\n",
    "            try:\n",
    "                if x == 0:\n",
    "                    pass\n",
    "                elif x == 2:\n",
    "                    decaimento()\n",
    "                elif x == 1:\n",
    "                    arqv = open('decaimento_tabela.csv','a')\n",
    "                    arqv.write(nome + ',' + input(\"determine o tempo de meia vida em segundos: \") + '\\n' )\n",
    "                    arqv.close()\n",
    "                    decaimento()\n",
    "            except ErrorValue:\n",
    "                print(\"Valor indevido!\")\n",
    "                \n",
    "    \n",
    "    except IOError:\n",
    "        print(\"Num deu!\")\n",
    "        \n",
    "def plotGraphic(nome, popInit, tempo):\n",
    "    N, constDecaimento = propertys(nome, float(data[nome]), popInit, tempo)\n",
    "    t = [t for t in range(len(N))]\n",
    "    _, axes = plt.subplots(1, 2, figsize=(10,4))\n",
    "    axes[0].plot([item for item in t[0:len(t):10]], N[0:len(N):10],\n",
    "                 label = \"curva de decaimento\")                      \n",
    "    axes[0].set_title(\"log N(t)\")\n",
    "    axes[0].set_yscale(\"log\")\n",
    "    axes[1].plot([item for item in t[0:len(t):10]], N[0:len(N):10],\n",
    "                 label = \"curva de decaimento\")                      \n",
    "    axes[1].set_title(\"N(t)\")\n",
    "    plt.show()\n",
    "        \n",
    "def propertys(nome , meiaVida , popInit, tempo):\n",
    "    try:\n",
    "        Delta_t = 1\n",
    "        alpha = np.log(2)/meiaVida\n",
    "        N = [popInit]\n",
    "        tempoAmostragem = 10**tempo\n",
    "        for n in range(1,tempoAmostragem):\n",
    "            N.append(N[n-1]*(1-alpha*Delta_t))\n",
    "        \n",
    "        return N, alpha\n",
    "    \n",
    "    except ErroType:\n",
    "        print(\"Tempo de amostragem deve ser uma potência de 10!\")\n",
    "    "
   ]
  },
  {
   "cell_type": "code",
   "execution_count": 4,
   "metadata": {},
   "outputs": [
    {
     "name": "stdout",
     "output_type": "stream",
     "text": [
      "nome tabelado: cesio-137\n",
      "População Inicial: 100\n",
      "Tempo de simulação (em potência de 10):5\n"
     ]
    },
    {
     "data": {
      "image/png": "[encoded data removed]",
      "text/plain": [
       "<Figure size 720x288 with 2 Axes>"
      ]
     },
     "metadata": {
      "needs_background": "light"
     },
     "output_type": "display_data"
    }
   ],
   "source": [
    "decaimento()\n"
   ]
  },
  {
   "cell_type": "code",
   "execution_count": null,
   "metadata": {},
   "outputs": [],
   "source": []
  }
 ],
 "metadata": {
  "kernelspec": {
   "display_name": "Python 3",
   "language": "python",
   "name": "python3"
  },
  "language_info": {
   "codemirror_mode": {
    "name": "ipython",
    "version": 3
   },
   "file_extension": ".py",
   "mimetype": "text/x-python",
   "name": "python",
   "nbconvert_exporter": "python",
   "pygments_lexer": "ipython3",
   "version": "3.7.3"
  }
 },
 "nbformat": 4,
 "nbformat_minor": 2
}
