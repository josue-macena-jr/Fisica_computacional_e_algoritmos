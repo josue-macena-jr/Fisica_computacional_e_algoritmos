{
 "cells": [
  {
   "cell_type": "markdown",
   "metadata": {},
   "source": [
    "# Decaimento Radioativo\n",
    "\n",
    "O problema do decaimento radioativo é dado por uma amostra radioativa de material possuindo N núcleons que irão decair aleatoriamente em algum instante t. O problema é determinar quantos núcleons estarão em estado de emissão (ainda não decaídos) sabendo num dado instante inicial a população.\n"
   ]
  },
  {
   "cell_type": "markdown",
   "metadata": {},
   "source": [
    "O nosso modelo será dado conforme [Física em computadores] - Coleção CBPF - Paulo e Suzana Oliveira. Escrito da forma N(t+Δt) = N(t)(1 - αΔt).\n",
    "\n",
    "Para o nosso caso específico usaremos os valores do Rb⁸², com decaimento α = 9.24e-3 s^(-1). Podemos entretanto realizar uma tabela com os valores dos decaimentos de outras substâncias. Fazer a leitura desse arquivo e atribuir o tempo de decaimento."
   ]
  },
  {
   "cell_type": "code",
   "execution_count": 135,
   "metadata": {},
   "outputs": [
    {
     "ename": "SyntaxError",
     "evalue": "named arguments must follow bare * (<ipython-input-135-9d0bc1224121>, line 46)",
     "output_type": "error",
     "traceback": [
      "\u001b[0;36m  File \u001b[0;32m\"<ipython-input-135-9d0bc1224121>\"\u001b[0;36m, line \u001b[0;32m46\u001b[0m\n\u001b[0;31m    def evolution(self, N = 10**3, time = 4,*):\u001b[0m\n\u001b[0m                                           ^\u001b[0m\n\u001b[0;31mSyntaxError\u001b[0m\u001b[0;31m:\u001b[0m named arguments must follow bare *\n"
     ]
    }
   ],
   "source": [
    "import numpy as np\n",
    "import matplotlib.pyplot as plt\n",
    "\n",
    "class radioactivity():\n",
    "    \n",
    "    def __init__(self, nome = ''):\n",
    "        while True:\n",
    "            try:\n",
    "                self.nome = nome\n",
    "                self.meiaVida = float(radioactivity.__data[nome])\n",
    "                self.alpha = np.log(2)/self.meiaVida\n",
    "                self.vidaMedia = 1/self.alpha\n",
    "                break\n",
    "            except KeyError:\n",
    "                print(\"Nome fora da lista\")\n",
    "                \n",
    "                # aqui deve entrar uma função para adicionar um novo elemento na pré-carregada ou não\n",
    "                \n",
    "                break\n",
    "            \n",
    "           \n",
    "    \n",
    "    # Esse método carrega os dados tabelados de algumas substâncias e importa para um dicionário. É neste\n",
    "    # dicionário que fica a informação interna à classe. A partir disso é possível trazer o nome e meia-vida\n",
    "    # da substância e então usar estes dados para setar os atributos \n",
    "    \n",
    "    def __dataInfo():\n",
    "        arqv = open('decaimento_tabela.csv','r')\n",
    "        data = []\n",
    "        colunas = arqv.read().split('\\n')\n",
    "        colunas.pop()\n",
    "        for coluna in colunas:\n",
    "            split_row = coluna.split(\",\")\n",
    "            data.append(split_row)\n",
    "    \n",
    "        data = dict(data) \n",
    "        data.pop('nome') # é removida o header das colunas a fim de obter apenas os elementos e as meias-vidas\n",
    "        arqv.close()\n",
    "        return data\n",
    "    \n",
    "    __data = __dataInfo()\n",
    "    \n",
    "    # Criar um método que permita evoluir no tempo e mudar o número de partículas ainda não decaídas\n",
    "    # em função do tempo\n",
    "    \n",
    "    def evolution(self, N = 10**3, time = 4,*):\n",
    "        \n",
    "        # Enxergando a inicialização da evolução do sistema\n",
    "        \n",
    "        while True: \n",
    "            try:\n",
    "                if int(N) == N > 0 and int(time) == time > 0:\n",
    "                    self.popInit = N\n",
    "                    _Delta_t = 1 # cada população é evoluída de 1 em 1 segundo\n",
    "                    N = [self.popInit]\n",
    "                    for n in range(1, 10**time):\n",
    "                        N.append(N[n-1]*(1-self.alpha*_Delta_t))\n",
    "                else:\n",
    "                    print(\"Valor da amostra inválida!\\n\")\n",
    "                    try:\n",
    "                        N = int(input(\"Insira o tamanho da amostra: \"))\n",
    "                        continue\n",
    "                    except ValueError as v:\n",
    "                        print(\"Erro: \",v)\n",
    "                        continue\n",
    "                break\n",
    "        \n",
    "            except TypeError:\n",
    "                print(\"Erro: valores da amostragem deve ser um inteiro!\")\n",
    "                break\n",
    "        \n",
    "    # Criar um método que plote gráficos do tipo N x t e log N x t.\n",
    "    \n",
    "    # Criar um método que permita alterar o arquivo original e add as colunas de tempo de vida média, constante\n",
    "    # de decaimento\n",
    "    \n",
    "    # Criar um método que permita cadastrar mais itens na lista\n",
    "    \n",
    "    #procurar erros"
   ]
  },
  {
   "cell_type": "code",
   "execution_count": 120,
   "metadata": {},
   "outputs": [
    {
     "data": {
      "text/plain": [
       "'\\n        \\ndef plotGraphic(nome, popInit, tempo,data):\\n    N, constDecaimento = propertys(nome, float(data[nome]), popInit, tempo)\\n    t = [t for t in range(len(N))]\\n    _, axes = plt.subplots(1, 2, figsize=(10,4))\\n    axes[0].plot([item for item in t[0:len(t):10]], N[0:len(N):10],\\n                 label = \"curva de decaimento\")                      \\n    axes[0].set_title(\"log N(t)\")\\n    axes[0].set_yscale(\"log\")\\n    axes[1].plot([item for item in t[0:len(t):10]], N[0:len(N):10],\\n                 label = \"curva de decaimento\")                      \\n    axes[1].set_title(\"N(t)\")\\n    plt.show()'"
      ]
     },
     "execution_count": 120,
     "metadata": {},
     "output_type": "execute_result"
    }
   ],
   "source": [
    "\"\"\"\n",
    "        \n",
    "def plotGraphic(nome, popInit, tempo,data):\n",
    "    N, constDecaimento = propertys(nome, float(data[nome]), popInit, tempo)\n",
    "    t = [t for t in range(len(N))]\n",
    "    _, axes = plt.subplots(1, 2, figsize=(10,4))\n",
    "    axes[0].plot([item for item in t[0:len(t):10]], N[0:len(N):10],\n",
    "                 label = \"curva de decaimento\")                      \n",
    "    axes[0].set_title(\"log N(t)\")\n",
    "    axes[0].set_yscale(\"log\")\n",
    "    axes[1].plot([item for item in t[0:len(t):10]], N[0:len(N):10],\n",
    "                 label = \"curva de decaimento\")                      \n",
    "    axes[1].set_title(\"N(t)\")\n",
    "    plt.show()\"\"\""
   ]
  },
  {
   "cell_type": "code",
   "execution_count": 123,
   "metadata": {},
   "outputs": [],
   "source": [
    "element = radioactivity(\"cobalto-60\")"
   ]
  },
  {
   "cell_type": "code",
   "execution_count": 133,
   "metadata": {},
   "outputs": [],
   "source": [
    "element.evolution(time = 2, N = 50000)"
   ]
  },
  {
   "cell_type": "code",
   "execution_count": 134,
   "metadata": {},
   "outputs": [
    {
     "data": {
      "text/plain": [
       "50000"
      ]
     },
     "execution_count": 134,
     "metadata": {},
     "output_type": "execute_result"
    }
   ],
   "source": [
    "element.popInit"
   ]
  },
  {
   "cell_type": "code",
   "execution_count": 6,
   "metadata": {},
   "outputs": [
    {
     "name": "stdout",
     "output_type": "stream",
     "text": [
      "Collecting python\n",
      "\u001b[31m  ERROR: Could not find a version that satisfies the requirement python (from versions: none)\u001b[0m\n",
      "\u001b[31mERROR: No matching distribution found for python\u001b[0m\n",
      "Note: you may need to restart the kernel to use updated packages.\n"
     ]
    }
   ],
   "source": [
    "pip install python"
   ]
  },
  {
   "cell_type": "code",
   "execution_count": null,
   "metadata": {},
   "outputs": [],
   "source": []
  }
 ],
 "metadata": {
  "kernelspec": {
   "display_name": "Python 3",
   "language": "python",
   "name": "python3"
  },
  "language_info": {
   "codemirror_mode": {
    "name": "ipython",
    "version": 3
   },
   "file_extension": ".py",
   "mimetype": "text/x-python",
   "name": "python",
   "nbconvert_exporter": "python",
   "pygments_lexer": "ipython3",
   "version": "3.7.3"
  }
 },
 "nbformat": 4,
 "nbformat_minor": 2
}
